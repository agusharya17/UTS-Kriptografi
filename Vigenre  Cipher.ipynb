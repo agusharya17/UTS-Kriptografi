{
 "cells": [
  {
   "cell_type": "code",
   "execution_count": 1,
   "metadata": {},
   "outputs": [
    {
     "name": "stdout",
     "output_type": "stream",
     "text": [
      "Plaintext: Dwi Agus Haryanto\n",
      "Encrypted text: Nag Eeew Repields\n",
      "Decrypted text: Dwi Agus Haryanto\n"
     ]
    }
   ],
   "source": [
    "def vigenere_encrypt(plain_text, key):\n",
    "    encrypted_text = ''\n",
    "    key_length = len(key)\n",
    "    for i in range(len(plain_text)):\n",
    "        char = plain_text[i]\n",
    "        if char.isalpha():\n",
    "            key_char = key[i % key_length]\n",
    "            key_shift = ord(key_char.lower()) - ord('a')\n",
    "            if char.isupper():\n",
    "                encrypted_char = chr((ord(char) - ord('A') + key_shift) % 26 + ord('A'))\n",
    "            else:\n",
    "                encrypted_char = chr((ord(char) - ord('a') + key_shift) % 26 + ord('a'))\n",
    "            encrypted_text += encrypted_char\n",
    "        else:\n",
    "            encrypted_text += char\n",
    "    return encrypted_text\n",
    "\n",
    "def vigenere_decrypt(encrypted_text, key):\n",
    "    decrypted_text = ''\n",
    "    key_length = len(key)\n",
    "    for i in range(len(encrypted_text)):\n",
    "        char = encrypted_text[i]\n",
    "        if char.isalpha():\n",
    "            key_char = key[i % key_length]\n",
    "            key_shift = ord(key_char.lower()) - ord('a')\n",
    "            if char.isupper():\n",
    "                decrypted_char = chr((ord(char) - ord('A') - key_shift) % 26 + ord('A'))\n",
    "            else:\n",
    "                decrypted_char = chr((ord(char) - ord('a') - key_shift) % 26 + ord('a'))\n",
    "            decrypted_text += decrypted_char\n",
    "        else:\n",
    "            decrypted_text += char\n",
    "    return decrypted_text\n",
    "\n",
    "# Contoh penggunaan\n",
    "plain_text = \"Dwi Agus Haryanto\"\n",
    "key = \"KEY\"\n",
    "encrypted_text = vigenere_encrypt(plain_text, key)\n",
    "print(f\"Plaintext: {plain_text}\")\n",
    "print(f\"Encrypted text: {encrypted_text}\")\n",
    "decrypted_text = vigenere_decrypt(encrypted_text, key)\n",
    "print(f\"Decrypted text: {decrypted_text}\")\n"
   ]
  }
 ],
 "metadata": {
  "kernelspec": {
   "display_name": "Python 3",
   "language": "python",
   "name": "python3"
  },
  "language_info": {
   "codemirror_mode": {
    "name": "ipython",
    "version": 3
   },
   "file_extension": ".py",
   "mimetype": "text/x-python",
   "name": "python",
   "nbconvert_exporter": "python",
   "pygments_lexer": "ipython3",
   "version": "3.11.6"
  }
 },
 "nbformat": 4,
 "nbformat_minor": 2
}
