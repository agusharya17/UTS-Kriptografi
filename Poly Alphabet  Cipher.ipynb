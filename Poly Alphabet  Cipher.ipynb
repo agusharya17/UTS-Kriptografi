{
 "cells": [
  {
   "cell_type": "code",
   "execution_count": 1,
   "metadata": {},
   "outputs": [
    {
     "name": "stdout",
     "output_type": "stream",
     "text": [
      "Encrypted Text: Nag Eeew Repields\n",
      "Decrypted Text: Dwi Agus Haryanto\n"
     ]
    }
   ],
   "source": [
    "def encrypt(plain_text, key):\n",
    "    encrypted_text = \"\"\n",
    "    key_length = len(key)\n",
    "    for i in range(len(plain_text)):\n",
    "        char = plain_text[i]\n",
    "        if char.isalpha():\n",
    "            # Tentukan pergeseran berdasarkan huruf kunci pada posisi tertentu\n",
    "            shift = ord(key[i % key_length].upper()) - ord('A')\n",
    "\n",
    "            # Enkripsi huruf\n",
    "            if char.isupper():\n",
    "                encrypted_text += chr((ord(char) + shift - ord('A')) % 26 + ord('A'))\n",
    "            else:\n",
    "                encrypted_text += chr((ord(char) + shift - ord('a')) % 26 + ord('a'))\n",
    "        else:\n",
    "            # Biarkan karakter non-alphabetic tidak berubah\n",
    "            encrypted_text += char\n",
    "    return encrypted_text\n",
    "\n",
    "def decrypt(encrypted_text, key):\n",
    "    decrypted_text = \"\"\n",
    "    key_length = len(key)\n",
    "    for i in range(len(encrypted_text)):\n",
    "        char = encrypted_text[i]\n",
    "        if char.isalpha():\n",
    "            # Tentukan pergeseran berdasarkan huruf kunci pada posisi tertentu\n",
    "            shift = ord(key[i % key_length].upper()) - ord('A')\n",
    "\n",
    "            # Dekripsi huruf\n",
    "            if char.isupper():\n",
    "                decrypted_text += chr((ord(char) - shift - ord('A')) % 26 + ord('A'))\n",
    "            else:\n",
    "                decrypted_text += chr((ord(char) - shift - ord('a')) % 26 + ord('a'))\n",
    "        else:\n",
    "            # Biarkan karakter non-alphabetic tidak berubah\n",
    "            decrypted_text += char\n",
    "    return decrypted_text\n",
    "\n",
    "# Contoh penggunaan\n",
    "plain_text = \"Dwi Agus Haryanto\"\n",
    "key = \"KEY\"\n",
    "\n",
    "# Enkripsi teks\n",
    "encrypted_text = encrypt(plain_text, key)\n",
    "print(\"Encrypted Text:\", encrypted_text)\n",
    "\n",
    "# Dekripsi teks\n",
    "decrypted_text = decrypt(encrypted_text, key)\n",
    "print(\"Decrypted Text:\", decrypted_text)\n"
   ]
  }
 ],
 "metadata": {
  "kernelspec": {
   "display_name": "Python 3",
   "language": "python",
   "name": "python3"
  },
  "language_info": {
   "codemirror_mode": {
    "name": "ipython",
    "version": 3
   },
   "file_extension": ".py",
   "mimetype": "text/x-python",
   "name": "python",
   "nbconvert_exporter": "python",
   "pygments_lexer": "ipython3",
   "version": "3.11.6"
  }
 },
 "nbformat": 4,
 "nbformat_minor": 2
}
