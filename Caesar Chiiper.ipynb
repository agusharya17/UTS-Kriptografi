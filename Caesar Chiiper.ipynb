{
 "cells": [
  {
   "cell_type": "code",
   "execution_count": 1,
   "metadata": {},
   "outputs": [
    {
     "name": "stdout",
     "output_type": "stream",
     "text": [
      "Plaintext:  Save Palestine\n",
      "Ciphertext: Vdyh Sdohvwlqh\n"
     ]
    }
   ],
   "source": [
    "def caesar_cipher(text, shift):\n",
    "    result = \"\"\n",
    "\n",
    "    for char in text:\n",
    "        if char.isalpha():\n",
    "            is_upper = char.isupper()\n",
    "            ascii_offset = ord('A') if is_upper else ord('a')\n",
    "            shifted_char = chr((ord(char) - ascii_offset + shift) % 26 + ascii_offset)\n",
    "            result += shifted_char\n",
    "        else:\n",
    "            result += char\n",
    "\n",
    "    return result\n",
    "\n",
    "# Contoh penggunaan\n",
    "plaintext = \"Save Palestine\"\n",
    "shift_amount = 3\n",
    "ciphertext = caesar_cipher(plaintext, shift_amount)\n",
    "\n",
    "print(f\"Plaintext:  {plaintext}\")\n",
    "print(f\"Ciphertext: {ciphertext}\")\n"
   ]
  }
 ],
 "metadata": {
  "kernelspec": {
   "display_name": "Python 3",
   "language": "python",
   "name": "python3"
  },
  "language_info": {
   "codemirror_mode": {
    "name": "ipython",
    "version": 3
   },
   "file_extension": ".py",
   "mimetype": "text/x-python",
   "name": "python",
   "nbconvert_exporter": "python",
   "pygments_lexer": "ipython3",
   "version": "3.11.6"
  }
 },
 "nbformat": 4,
 "nbformat_minor": 2
}
